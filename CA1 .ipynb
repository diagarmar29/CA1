{
 "cells": [
  {
   "cell_type": "markdown",
   "id": "3c6ff3a0",
   "metadata": {},
   "source": [
    "keras imports for the dataset and building our neural network"
   ]
  },
  {
   "cell_type": "code",
   "execution_count": 29,
   "id": "60f81a45",
   "metadata": {},
   "outputs": [],
   "source": [
    "from keras.datasets import mnist"
   ]
  },
  {
   "cell_type": "code",
   "execution_count": 30,
   "id": "5443294a",
   "metadata": {},
   "outputs": [],
   "source": [
    "from keras.models import Sequential\n",
    "from keras.layers import Dense,Dropout, Conv2D, MaxPool2D, Flatten\n",
    "from keras import utils\n",
    "from sklearn.metrics import accuracy_score"
   ]
  },
  {
   "cell_type": "markdown",
   "id": "61a1281d",
   "metadata": {},
   "source": [
    "loading the dataset"
   ]
  },
  {
   "cell_type": "code",
   "execution_count": 31,
   "id": "a08aab24",
   "metadata": {},
   "outputs": [],
   "source": [
    "(X_train,y_train),(X_test,y_test) = mnist.load_data()"
   ]
  },
  {
   "cell_type": "markdown",
   "id": "0a4c193a",
   "metadata": {},
   "source": [
    "building the input vector from the 28x28 pixels"
   ]
  },
  {
   "cell_type": "code",
   "execution_count": 32,
   "id": "61793235",
   "metadata": {},
   "outputs": [],
   "source": [
    "X_train = X_train.reshape(X_train.shape[0], 28, 28, 1)\n",
    "X_test = X_test.reshape(X_test.shape[0], 28, 28, 1)\n",
    "X_train = X_train.astype('float32')\n",
    "X_test = X_test.astype('float32')"
   ]
  },
  {
   "cell_type": "markdown",
   "id": "fcd072a7",
   "metadata": {},
   "source": [
    "normalizing the data to help with the training"
   ]
  },
  {
   "cell_type": "code",
   "execution_count": 33,
   "id": "d91ff6a6",
   "metadata": {},
   "outputs": [],
   "source": [
    "X_train /= 255\n",
    "X_test /= 255"
   ]
  },
  {
   "cell_type": "markdown",
   "id": "683857bc",
   "metadata": {},
   "source": [
    "one-hot encoding using keras' numpy-related utilities"
   ]
  },
  {
   "cell_type": "code",
   "execution_count": 34,
   "id": "9358b4aa",
   "metadata": {},
   "outputs": [
    {
     "name": "stdout",
     "output_type": "stream",
     "text": [
      "Shape before one-hot encoding:  (60000,)\n"
     ]
    }
   ],
   "source": [
    "n_classes = 10\n",
    "print(\"Shape before one-hot encoding: \", y_train.shape)"
   ]
  },
  {
   "cell_type": "code",
   "execution_count": 35,
   "id": "256eef33",
   "metadata": {},
   "outputs": [
    {
     "name": "stdout",
     "output_type": "stream",
     "text": [
      "Shape after one-hot encoding:  (60000, 10)\n"
     ]
    }
   ],
   "source": [
    "Y_train = utils.to_categorical(y_train, num_classes=n_classes)\n",
    "Y_test = utils.to_categorical(y_test, num_classes=n_classes)\n",
    "print(\"Shape after one-hot encoding: \", Y_train.shape)"
   ]
  },
  {
   "cell_type": "markdown",
   "id": "37a9122d",
   "metadata": {},
   "source": [
    "building a linear stack of layers with the sequential model"
   ]
  },
  {
   "cell_type": "code",
   "execution_count": 36,
   "id": "a6b44ba5",
   "metadata": {
    "collapsed": true
   },
   "outputs": [
    {
     "name": "stdout",
     "output_type": "stream",
     "text": [
      "Requirement already satisfied: keras in c:\\users\\mara_\\anaconda4\\lib\\site-packages (3.1.1)\n",
      "Requirement already satisfied: tensorflow in c:\\users\\mara_\\anaconda4\\lib\\site-packages (2.16.1)\n",
      "Requirement already satisfied: absl-py in c:\\users\\mara_\\anaconda4\\lib\\site-packages (from keras) (2.0.0)\n",
      "Requirement already satisfied: numpy in c:\\users\\mara_\\anaconda4\\lib\\site-packages (from keras) (1.24.3)\n",
      "Requirement already satisfied: rich in c:\\users\\mara_\\anaconda4\\lib\\site-packages (from keras) (13.7.0)\n",
      "Requirement already satisfied: namex in c:\\users\\mara_\\anaconda4\\lib\\site-packages (from keras) (0.0.7)\n",
      "Requirement already satisfied: h5py in c:\\users\\mara_\\anaconda4\\lib\\site-packages (from keras) (3.10.0)\n",
      "Requirement already satisfied: optree in c:\\users\\mara_\\anaconda4\\lib\\site-packages (from keras) (0.11.0)\n",
      "Requirement already satisfied: ml-dtypes in c:\\users\\mara_\\anaconda4\\lib\\site-packages (from keras) (0.3.2)\n",
      "Requirement already satisfied: tensorflow-intel==2.16.1 in c:\\users\\mara_\\anaconda4\\lib\\site-packages (from tensorflow) (2.16.1)\n",
      "Requirement already satisfied: astunparse>=1.6.0 in c:\\users\\mara_\\anaconda4\\lib\\site-packages (from tensorflow-intel==2.16.1->tensorflow) (1.6.3)\n",
      "Requirement already satisfied: flatbuffers>=23.5.26 in c:\\users\\mara_\\anaconda4\\lib\\site-packages (from tensorflow-intel==2.16.1->tensorflow) (23.5.26)\n",
      "Requirement already satisfied: gast!=0.5.0,!=0.5.1,!=0.5.2,>=0.2.1 in c:\\users\\mara_\\anaconda4\\lib\\site-packages (from tensorflow-intel==2.16.1->tensorflow) (0.5.4)\n",
      "Requirement already satisfied: google-pasta>=0.1.1 in c:\\users\\mara_\\anaconda4\\lib\\site-packages (from tensorflow-intel==2.16.1->tensorflow) (0.2.0)\n",
      "Requirement already satisfied: libclang>=13.0.0 in c:\\users\\mara_\\anaconda4\\lib\\site-packages (from tensorflow-intel==2.16.1->tensorflow) (16.0.6)\n",
      "Requirement already satisfied: opt-einsum>=2.3.2 in c:\\users\\mara_\\anaconda4\\lib\\site-packages (from tensorflow-intel==2.16.1->tensorflow) (3.3.0)\n",
      "Requirement already satisfied: packaging in c:\\users\\mara_\\anaconda4\\lib\\site-packages (from tensorflow-intel==2.16.1->tensorflow) (23.0)\n",
      "Requirement already satisfied: protobuf!=4.21.0,!=4.21.1,!=4.21.2,!=4.21.3,!=4.21.4,!=4.21.5,<5.0.0dev,>=3.20.3 in c:\\users\\mara_\\anaconda4\\lib\\site-packages (from tensorflow-intel==2.16.1->tensorflow) (4.21.12)\n",
      "Requirement already satisfied: requests<3,>=2.21.0 in c:\\users\\mara_\\anaconda4\\lib\\site-packages (from tensorflow-intel==2.16.1->tensorflow) (2.31.0)\n",
      "Requirement already satisfied: setuptools in c:\\users\\mara_\\anaconda4\\lib\\site-packages (from tensorflow-intel==2.16.1->tensorflow) (68.0.0)\n",
      "Requirement already satisfied: six>=1.12.0 in c:\\users\\mara_\\anaconda4\\lib\\site-packages (from tensorflow-intel==2.16.1->tensorflow) (1.16.0)\n",
      "Requirement already satisfied: termcolor>=1.1.0 in c:\\users\\mara_\\anaconda4\\lib\\site-packages (from tensorflow-intel==2.16.1->tensorflow) (2.3.0)\n",
      "Requirement already satisfied: typing-extensions>=3.6.6 in c:\\users\\mara_\\anaconda4\\lib\\site-packages (from tensorflow-intel==2.16.1->tensorflow) (4.7.1)\n",
      "Requirement already satisfied: wrapt>=1.11.0 in c:\\users\\mara_\\anaconda4\\lib\\site-packages (from tensorflow-intel==2.16.1->tensorflow) (1.14.1)\n",
      "Requirement already satisfied: grpcio<2.0,>=1.24.3 in c:\\users\\mara_\\anaconda4\\lib\\site-packages (from tensorflow-intel==2.16.1->tensorflow) (1.59.2)\n",
      "Requirement already satisfied: tensorboard<2.17,>=2.16 in c:\\users\\mara_\\anaconda4\\lib\\site-packages (from tensorflow-intel==2.16.1->tensorflow) (2.16.2)\n",
      "Requirement already satisfied: tensorflow-io-gcs-filesystem>=0.23.1 in c:\\users\\mara_\\anaconda4\\lib\\site-packages (from tensorflow-intel==2.16.1->tensorflow) (0.31.0)\n",
      "Requirement already satisfied: markdown-it-py>=2.2.0 in c:\\users\\mara_\\anaconda4\\lib\\site-packages (from rich->keras) (2.2.0)\n",
      "Requirement already satisfied: pygments<3.0.0,>=2.13.0 in c:\\users\\mara_\\anaconda4\\lib\\site-packages (from rich->keras) (2.15.1)\n",
      "Requirement already satisfied: wheel<1.0,>=0.23.0 in c:\\users\\mara_\\anaconda4\\lib\\site-packages (from astunparse>=1.6.0->tensorflow-intel==2.16.1->tensorflow) (0.38.4)\n",
      "Requirement already satisfied: mdurl~=0.1 in c:\\users\\mara_\\anaconda4\\lib\\site-packages (from markdown-it-py>=2.2.0->rich->keras) (0.1.0)\n",
      "Requirement already satisfied: charset-normalizer<4,>=2 in c:\\users\\mara_\\anaconda4\\lib\\site-packages (from requests<3,>=2.21.0->tensorflow-intel==2.16.1->tensorflow) (2.0.4)\n",
      "Requirement already satisfied: idna<4,>=2.5 in c:\\users\\mara_\\anaconda4\\lib\\site-packages (from requests<3,>=2.21.0->tensorflow-intel==2.16.1->tensorflow) (3.4)\n",
      "Requirement already satisfied: urllib3<3,>=1.21.1 in c:\\users\\mara_\\anaconda4\\lib\\site-packages (from requests<3,>=2.21.0->tensorflow-intel==2.16.1->tensorflow) (1.26.16)\n",
      "Requirement already satisfied: certifi>=2017.4.17 in c:\\users\\mara_\\anaconda4\\lib\\site-packages (from requests<3,>=2.21.0->tensorflow-intel==2.16.1->tensorflow) (2023.11.17)\n",
      "Requirement already satisfied: markdown>=2.6.8 in c:\\users\\mara_\\anaconda4\\lib\\site-packages (from tensorboard<2.17,>=2.16->tensorflow-intel==2.16.1->tensorflow) (3.4.1)\n",
      "Requirement already satisfied: tensorboard-data-server<0.8.0,>=0.7.0 in c:\\users\\mara_\\anaconda4\\lib\\site-packages (from tensorboard<2.17,>=2.16->tensorflow-intel==2.16.1->tensorflow) (0.7.2)\n",
      "Requirement already satisfied: werkzeug>=1.0.1 in c:\\users\\mara_\\anaconda4\\lib\\site-packages (from tensorboard<2.17,>=2.16->tensorflow-intel==2.16.1->tensorflow) (2.2.3)\n",
      "Requirement already satisfied: MarkupSafe>=2.1.1 in c:\\users\\mara_\\anaconda4\\lib\\site-packages (from werkzeug>=1.0.1->tensorboard<2.17,>=2.16->tensorflow-intel==2.16.1->tensorflow) (2.1.1)\n",
      "Note: you may need to restart the kernel to use updated packages.\n"
     ]
    }
   ],
   "source": [
    "pip install --upgrade keras tensorflow"
   ]
  },
  {
   "cell_type": "code",
   "execution_count": 37,
   "id": "c3b1da5c",
   "metadata": {},
   "outputs": [],
   "source": [
    "model = Sequential()\n",
    "\n",
    "# convolutional layer(Experiment with the 25 number, unput_shape(size of the layer))\n",
    "model.add(Conv2D(25, kernel_size=(3,3), strides=(1,1), padding='valid', activation='relu', input_shape=(28,28,1)))\n",
    "\n",
    "#MaxPool to reduce the features\n",
    "model.add(MaxPool2D(pool_size=(1,1)))\n",
    "\n",
    "# flatten output of conv\n",
    "model.add(Flatten())\n",
    "\n",
    "# hidden layer\n",
    "model.add(Dense(100, activation='relu'))\n",
    "\n",
    "# output layer\n",
    "model.add(Dense(10, activation='softmax'))"
   ]
  },
  {
   "cell_type": "markdown",
   "id": "0323dad2",
   "metadata": {},
   "source": [
    "Loss funtions"
   ]
  },
  {
   "cell_type": "code",
   "execution_count": 38,
   "id": "7437f43f",
   "metadata": {},
   "outputs": [],
   "source": [
    "model.compile(loss='categorical_crossentropy', metrics=['accuracy'], optimizer='adam')"
   ]
  },
  {
   "cell_type": "markdown",
   "id": "9fcc0552",
   "metadata": {},
   "source": [
    "training the model for 10 epochs )difference between batch = number of observation I am taking for training size and epochs= the result of the training, one for all of the training, "
   ]
  },
  {
   "cell_type": "code",
   "execution_count": 28,
   "id": "545cc08f",
   "metadata": {},
   "outputs": [
    {
     "name": "stdout",
     "output_type": "stream",
     "text": [
      "Epoch 1/10\n",
      "\u001b[1m469/469\u001b[0m \u001b[32m━━━━━━━━━━━━━━━━━━━━\u001b[0m\u001b[37m\u001b[0m \u001b[1m13s\u001b[0m 24ms/step - accuracy: 0.8940 - loss: 0.3564 - val_accuracy: 0.9737 - val_loss: 0.0791\n",
      "Epoch 2/10\n",
      "\u001b[1m469/469\u001b[0m \u001b[32m━━━━━━━━━━━━━━━━━━━━\u001b[0m\u001b[37m\u001b[0m \u001b[1m10s\u001b[0m 22ms/step - accuracy: 0.9811 - loss: 0.0635 - val_accuracy: 0.9784 - val_loss: 0.0662\n",
      "Epoch 3/10\n",
      "\u001b[1m469/469\u001b[0m \u001b[32m━━━━━━━━━━━━━━━━━━━━\u001b[0m\u001b[37m\u001b[0m \u001b[1m10s\u001b[0m 22ms/step - accuracy: 0.9893 - loss: 0.0359 - val_accuracy: 0.9811 - val_loss: 0.0551\n",
      "Epoch 4/10\n",
      "\u001b[1m469/469\u001b[0m \u001b[32m━━━━━━━━━━━━━━━━━━━━\u001b[0m\u001b[37m\u001b[0m \u001b[1m11s\u001b[0m 23ms/step - accuracy: 0.9939 - loss: 0.0208 - val_accuracy: 0.9831 - val_loss: 0.0515\n",
      "Epoch 5/10\n",
      "\u001b[1m469/469\u001b[0m \u001b[32m━━━━━━━━━━━━━━━━━━━━\u001b[0m\u001b[37m\u001b[0m \u001b[1m11s\u001b[0m 23ms/step - accuracy: 0.9960 - loss: 0.0138 - val_accuracy: 0.9838 - val_loss: 0.0514\n",
      "Epoch 6/10\n",
      "\u001b[1m469/469\u001b[0m \u001b[32m━━━━━━━━━━━━━━━━━━━━\u001b[0m\u001b[37m\u001b[0m \u001b[1m11s\u001b[0m 22ms/step - accuracy: 0.9974 - loss: 0.0092 - val_accuracy: 0.9834 - val_loss: 0.0581\n",
      "Epoch 7/10\n",
      "\u001b[1m469/469\u001b[0m \u001b[32m━━━━━━━━━━━━━━━━━━━━\u001b[0m\u001b[37m\u001b[0m \u001b[1m11s\u001b[0m 23ms/step - accuracy: 0.9976 - loss: 0.0077 - val_accuracy: 0.9845 - val_loss: 0.0553\n",
      "Epoch 8/10\n",
      "\u001b[1m469/469\u001b[0m \u001b[32m━━━━━━━━━━━━━━━━━━━━\u001b[0m\u001b[37m\u001b[0m \u001b[1m10s\u001b[0m 22ms/step - accuracy: 0.9986 - loss: 0.0051 - val_accuracy: 0.9818 - val_loss: 0.0676\n",
      "Epoch 9/10\n",
      "\u001b[1m469/469\u001b[0m \u001b[32m━━━━━━━━━━━━━━━━━━━━\u001b[0m\u001b[37m\u001b[0m \u001b[1m10s\u001b[0m 22ms/step - accuracy: 0.9973 - loss: 0.0085 - val_accuracy: 0.9840 - val_loss: 0.0595\n",
      "Epoch 10/10\n",
      "\u001b[1m469/469\u001b[0m \u001b[32m━━━━━━━━━━━━━━━━━━━━\u001b[0m\u001b[37m\u001b[0m \u001b[1m10s\u001b[0m 22ms/step - accuracy: 0.9990 - loss: 0.0039 - val_accuracy: 0.9852 - val_loss: 0.0553\n"
     ]
    },
    {
     "data": {
      "text/plain": [
       "<keras.src.callbacks.history.History at 0x1b4e5ae2810>"
      ]
     },
     "execution_count": 28,
     "metadata": {},
     "output_type": "execute_result"
    }
   ],
   "source": [
    "model.fit(X_train, Y_train, batch_size=128, epochs=10, validation_data=(X_test, Y_test))"
   ]
  },
  {
   "cell_type": "code",
   "execution_count": 52,
   "id": "78442be0",
   "metadata": {},
   "outputs": [
    {
     "name": "stdout",
     "output_type": "stream",
     "text": [
      "\u001b[1m1/1\u001b[0m \u001b[32m━━━━━━━━━━━━━━━━━━━━\u001b[0m\u001b[37m\u001b[0m \u001b[1m0s\u001b[0m 142ms/step\n"
     ]
    }
   ],
   "source": [
    "pred = model.predict(X_test[:10])"
   ]
  },
  {
   "cell_type": "code",
   "execution_count": 53,
   "id": "a142cdba",
   "metadata": {},
   "outputs": [],
   "source": [
    "import numpy as np"
   ]
  },
  {
   "cell_type": "code",
   "execution_count": 54,
   "id": "f0c3d204",
   "metadata": {},
   "outputs": [
    {
     "data": {
      "text/plain": [
       "array([[1.8237695e-17, 8.7862266e-19, 6.5256291e-13, 2.6739772e-10,\n",
       "        3.2005800e-19, 5.2125276e-17, 1.3923320e-27, 1.0000000e+00,\n",
       "        6.9993185e-14, 1.0168179e-11],\n",
       "       [1.1889358e-13, 1.5178184e-12, 1.0000000e+00, 2.0161534e-14,\n",
       "        2.8776819e-28, 3.4080306e-24, 1.9350264e-17, 3.6657585e-28,\n",
       "        1.3070054e-15, 1.7024784e-16],\n",
       "       [5.6645435e-11, 9.9999988e-01, 1.1333896e-09, 5.9821763e-14,\n",
       "        7.4826789e-10, 1.3165855e-11, 5.8212928e-11, 1.2480527e-07,\n",
       "        4.7297785e-08, 9.2523125e-13],\n",
       "       [1.0000000e+00, 8.3110991e-15, 9.6515950e-17, 1.6428747e-17,\n",
       "        6.8871078e-19, 8.5865710e-16, 3.2767520e-13, 2.5029188e-15,\n",
       "        1.0384560e-15, 2.2248318e-14],\n",
       "       [3.6006630e-18, 1.4860255e-13, 1.9480259e-14, 8.3666890e-17,\n",
       "        9.9999917e-01, 1.5127751e-18, 3.5132949e-20, 1.3406518e-13,\n",
       "        8.3188963e-11, 8.0420017e-07],\n",
       "       [7.0134798e-15, 9.9999988e-01, 3.4275127e-14, 4.6633674e-15,\n",
       "        2.8283135e-11, 3.2097424e-16, 8.9582721e-15, 7.9148037e-08,\n",
       "        2.2863200e-09, 2.6132378e-12],\n",
       "       [7.1890630e-23, 5.5992624e-12, 4.1120861e-12, 2.2981283e-17,\n",
       "        9.9981302e-01, 1.4718757e-11, 1.3844475e-17, 2.5765078e-13,\n",
       "        1.8460011e-04, 2.4049612e-06],\n",
       "       [6.1565918e-21, 1.1282810e-12, 1.6480574e-13, 1.2213072e-10,\n",
       "        5.2423766e-06, 9.9475411e-12, 9.7360596e-21, 2.1600868e-14,\n",
       "        8.6506458e-10, 9.9999475e-01],\n",
       "       [2.6786388e-13, 1.4489292e-15, 1.2702068e-15, 3.0820669e-12,\n",
       "        1.8688523e-07, 9.7758991e-01, 2.2348231e-02, 1.1968758e-18,\n",
       "        5.4410182e-05, 7.2001021e-06],\n",
       "       [2.6221358e-23, 5.3935689e-23, 1.3468345e-21, 1.7900261e-14,\n",
       "        4.3618247e-12, 5.0697235e-17, 2.7414595e-25, 1.1655107e-09,\n",
       "        2.5198193e-14, 1.0000000e+00]], dtype=float32)"
      ]
     },
     "execution_count": 54,
     "metadata": {},
     "output_type": "execute_result"
    }
   ],
   "source": [
    "pred"
   ]
  },
  {
   "cell_type": "code",
   "execution_count": null,
   "id": "367fd79f",
   "metadata": {},
   "outputs": [],
   "source": []
  }
 ],
 "metadata": {
  "kernelspec": {
   "display_name": "Python 3 (ipykernel)",
   "language": "python",
   "name": "python3"
  },
  "language_info": {
   "codemirror_mode": {
    "name": "ipython",
    "version": 3
   },
   "file_extension": ".py",
   "mimetype": "text/x-python",
   "name": "python",
   "nbconvert_exporter": "python",
   "pygments_lexer": "ipython3",
   "version": "3.11.4"
  }
 },
 "nbformat": 4,
 "nbformat_minor": 5
}
